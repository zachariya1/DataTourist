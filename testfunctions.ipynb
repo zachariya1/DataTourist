{
 "cells": [
  {
   "cell_type": "code",
   "execution_count": 1,
   "metadata": {},
   "outputs": [
    {
     "name": "stdout",
     "output_type": "stream",
     "text": [
      "MongoDB connection successful!\n"
     ]
    }
   ],
   "source": [
    "import json\n",
    "from datetime import datetime\n",
    "from pymongo import MongoClient\n",
    "import os\n",
    "\n",
    "try:\n",
    "    myclient = MongoClient(\"mongodb://localhost:27017/\")\n",
    "    myclient.list_database_names()\n",
    "    db = myclient.DatatouristUCZ\n",
    "    Collection = db.Tourism\n",
    "    print(\"MongoDB connection successful!\")\n",
    "except Exception as e:\n",
    "    print(f\"MongoDB connection failed: {str(e)}\")"
   ]
  },
  {
   "cell_type": "code",
   "execution_count": 3,
   "metadata": {},
   "outputs": [],
   "source": [
    "data= {'coordinates' : [48,2],\n",
    "       'maxDistance' : 5000}"
   ]
  },
  {
   "cell_type": "code",
   "execution_count": 4,
   "metadata": {},
   "outputs": [],
   "source": [
    "def loc_nearby_and_theme(Col, data):\n",
    "    coordinates = data['coordinates']\n",
    "    maxDist = data['maxDistance']\n",
    "    query = {\n",
    "        'loc': {\n",
    "            '$near': {\n",
    "                '$geometry': {\n",
    "                    'type': 'Point', \n",
    "                    'coordinates': [\n",
    "                        coordinates[1], coordinates[0]\n",
    "                    ]\n",
    "                },\n",
    "                '$maxDistance': maxDist\n",
    "            }\n",
    "        }\n",
    "    }\n",
    "    print(maxDist)\n",
    "    projection = {\n",
    "        'rdfs:label.fr' : 1,  # Include the 'name' field in the result (French label)\n",
    "        'loc': 1,   # Include the 'loc' field in the result\n",
    "        \"hasDescription.shortDescription.fr\": 1,  # Include the 'description' field in the result\n",
    "        '@type' : 1,\n",
    "        'hasContact.schema:telephone': 1\n",
    "    }\n",
    "    cursor = Col.find(query, projection).limit(3)\n",
    "    result = []\n",
    "    for doc in cursor:\n",
    "        doc['_id'] = str(doc['_id'])  # Convert the ObjectId to a string\n",
    "        result.append(doc)\n",
    "    return result"
   ]
  },
  {
   "cell_type": "code",
   "execution_count": 5,
   "metadata": {},
   "outputs": [
    {
     "name": "stdout",
     "output_type": "stream",
     "text": [
      "5000\n"
     ]
    },
    {
     "data": {
      "text/plain": [
       "[{'_id': '6527b199b1a4cda3746fe85b',\n",
       "  '@type': ['CulturalSite',\n",
       "   'PlaceOfInterest',\n",
       "   'PointOfInterest',\n",
       "   'ReligiousSite'],\n",
       "  'rdfs:label': {'fr': [\"Tombe d'un Turco\"]},\n",
       "  'hasDescription': [{}],\n",
       "  'loc': [1.969976, 47.966929]},\n",
       " {'_id': '6527b0efb1a4cda3746fb8c7',\n",
       "  '@type': ['schema:CivicStructure',\n",
       "   'FitnessPath',\n",
       "   'PlaceOfInterest',\n",
       "   'PointOfInterest',\n",
       "   'SportsAndLeisurePlace'],\n",
       "  'rdfs:label': {'fr': ['Parcours de santé Marigny']},\n",
       "  'hasDescription': [{'shortDescription': {'fr': ['Parcours de santé en accès libre.']}}],\n",
       "  'loc': [2.0049578, 47.9598008]},\n",
       " {'_id': '6527b0bbb1a4cda3746faa4f',\n",
       "  '@type': ['Church',\n",
       "   'CulturalSite',\n",
       "   'PlaceOfInterest',\n",
       "   'PointOfInterest',\n",
       "   'ReligiousSite'],\n",
       "  'rdfs:label': {'fr': ['Eglise Saint-Sulpice']},\n",
       "  'hasDescription': [{}],\n",
       "  'loc': [2.023306, 48.038064]}]"
      ]
     },
     "execution_count": 5,
     "metadata": {},
     "output_type": "execute_result"
    }
   ],
   "source": [
    "loc_nearby_and_theme(Collection, data)"
   ]
  }
 ],
 "metadata": {
  "kernelspec": {
   "display_name": "Python 3",
   "language": "python",
   "name": "python3"
  },
  "language_info": {
   "codemirror_mode": {
    "name": "ipython",
    "version": 3
   },
   "file_extension": ".py",
   "mimetype": "text/x-python",
   "name": "python",
   "nbconvert_exporter": "python",
   "pygments_lexer": "ipython3",
   "version": "3.12.0"
  }
 },
 "nbformat": 4,
 "nbformat_minor": 2
}
